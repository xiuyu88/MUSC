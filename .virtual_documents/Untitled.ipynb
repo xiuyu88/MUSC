import os
from enum import Enum


source = './data/mvtec_anomaly_detection/'
_CLASSNAMES = ["bottle", "cable", "capsule", "carpet", "grid",
            "hazelnut", "leather", "metal_nut", "pill", "screw",
            "tile", "toothbrush", "transistor", "wood", "zipper"]
IMAGENET_MEAN = [0.485, 0.456, 0.406]
IMAGENET_STD = [0.229, 0.224, 0.225]


imgpaths_per_class = {}
maskpaths_per_class = {}


classname =  "bottle"


classnames_to_use = [classname] if classname is not None else _CLASSNAMES


classnames_to_use


class DatasetSplit(Enum):
    TRAIN = "train"
    VAL = "val"
    TEST = "test"


split=DatasetSplit.TRAIN


classpath = os.path.join(source, classname, split.value)
maskpath = os.path.join(source, classname, "ground_truth")
anomaly_types = os.listdir(classpath)

imgpaths_per_class[classname] = {}
maskpaths_per_class[classname] = {}


classpath, maskpath, anomaly_types


for anomaly in anomaly_types:
                anomaly_path = os.path.join(classpath, anomaly)
                anomaly_files = sorted(os.listdir(anomaly_path))
                imgpaths_per_class[classname][anomaly] = [
                    os.path.join(anomaly_path, x) for x in anomaly_files
                ]

                if split == DatasetSplit.TEST and anomaly != "good":
                    anomaly_mask_path = os.path.join(maskpath, anomaly)
                    anomaly_mask_files = sorted(os.listdir(anomaly_mask_path))
                    maskpaths_per_class[classname][anomaly] = [
                        os.path.join(anomaly_mask_path, x) for x in anomaly_mask_files
                    ]
                else:
                    maskpaths_per_class[classname]["good"] = None



imgpaths_per_class[classname], maskpaths_per_class[classname]


data_to_iterate = []
for classname in sorted(imgpaths_per_class.keys()):
    for anomaly in sorted(imgpaths_per_class[classname].keys()):
        for i, image_path in enumerate(imgpaths_per_class[classname][anomaly]):
            data_tuple = [classname, anomaly, image_path]
            if split == DatasetSplit.TEST and anomaly != "good":
                data_tuple.append(maskpaths_per_class[classname][anomaly][i])
            else:
                data_tuple.append(None)
            data_to_iterate.append(data_tuple)


data_to_iterate



